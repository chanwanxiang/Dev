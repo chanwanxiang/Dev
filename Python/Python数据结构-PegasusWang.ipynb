{
 "cells": [
  {
   "cell_type": "markdown",
   "source": [
    "## 1. 抽象数据类型和面向对象编程\r\n",
    "\r\n",
    "程序 = 数据结构 + 算法\r\n",
    "\r\n",
    "实现Bag类(ADT:abstract Data Type)\r\n",
    "+ 选用datastructures\r\n",
    "+ 能否操作(增删)\r\n",
    "+ 效率"
   ],
   "metadata": {}
  },
  {
   "cell_type": "code",
   "execution_count": null,
   "source": [
    "class Bag(object):\r\n",
    "\r\n",
    "    def __init__(self,maxsize = 10):\r\n",
    "        self.maxsize = maxsize\r\n",
    "        self.items = list()\r\n",
    "\r\n",
    "    def add(self, item):\r\n",
    "        if len(self) > self.maxsize:\r\n",
    "            raise Exception('Big is Full')\r\n",
    "        self.items.append(item)\r\n",
    "\r\n",
    "    def remove(self, item):\r\n",
    "        self.items.remove(item)\r\n",
    "\r\n",
    "    def __len__(self):\r\n",
    "        return len(self.items)\r\n",
    "\r\n",
    "    def __iter__(self):\r\n",
    "        for item in self.items:\r\n",
    "            yield item\r\n",
    "\r\n",
    "def testBag():\r\n",
    "    bag = Bag()\r\n",
    "\r\n",
    "    bag.add(1)\r\n",
    "    bag.add(2)\r\n",
    "    bag.add(3)\r\n",
    "    print(len(bag) == 3)\r\n",
    "\r\n",
    "    bag.remove(3)\r\n",
    "    print(len(bag) == 2)\r\n",
    "\r\n",
    "testBag()"
   ],
   "outputs": [],
   "metadata": {}
  },
  {
   "cell_type": "markdown",
   "source": [
    "# 2. 数组和列表\r\n",
    "\r\n",
    "线性结构\r\n",
    "+ 内存连续\r\n",
    "+ 下标访问\r\n",
    "\r\n",
    "Python Array\r\n",
    "+ 统一类型\r\n",
    "+ 数字，字符\r\n"
   ],
   "metadata": {}
  },
  {
   "cell_type": "code",
   "execution_count": null,
   "source": [
    "class Array(object):\r\n",
    "\r\n",
    "    def __init__(self, size = 32):\r\n",
    "        self.size = size\r\n",
    "        self.items = [None] * size\r\n",
    "\r\n",
    "    def __getitem__(self, index):\r\n",
    "        return self.items[index]\r\n",
    "    \r\n",
    "    def __setitem__(self, index, value):\r\n",
    "        self.items[index] = value\r\n",
    "\r\n",
    "    def __len__(self):\r\n",
    "        return self.size\r\n",
    "\r\n",
    "    def __iter__(self):\r\n",
    "        for item in self.items:\r\n",
    "            yield item\r\n",
    "    \r\n",
    "    def clear(self, value = None):\r\n",
    "        for i in range(len(self.items)):\r\n",
    "            self.items[i] = value\r\n",
    "\r\n",
    "def testArray():\r\n",
    "    size = 10\r\n",
    "    a = Array(size)\r\n",
    "    a[0] = 1\r\n",
    "    print(a[0] == 1)\r\n",
    "    a.clear()\r\n",
    "    print(a[0] is None)\r\n",
    "\r\n",
    "testArray()"
   ],
   "outputs": [],
   "metadata": {}
  },
  {
   "cell_type": "markdown",
   "source": [
    "# 3. 链表\r\n",
    "链式结构\r\n",
    "+ 内存不再连续\r\n",
    "+ 没有下标\r\n",
    "\r\n",
    "单链表的实现\r\n",
    "+ data\r\n",
    "    + head\r\n",
    "    + length\r\n",
    "+ method\r\n",
    "    + init\r\n",
    "    + isEmpty\r\n",
    "    + items\r\n",
    "    + add\r\n",
    "    + append\r\n",
    "    + insert\r\n",
    "    + remove\r\n",
    "    + find"
   ],
   "metadata": {}
  },
  {
   "cell_type": "code",
   "execution_count": null,
   "source": [
    "class Node(object):\r\n",
    "\r\n",
    "    def __init__(self, item):\r\n",
    "        self.item = item\r\n",
    "        self.next = None\r\n",
    "\r\n",
    "class LinkedList(object):\r\n",
    "    \r\n",
    "    def __init__(self):\r\n",
    "        self.head = None\r\n",
    "\r\n",
    "    def isEmpty(self):\r\n",
    "        # 判断链表是否为空\r\n",
    "        return self.head is None\r\n",
    "\r\n",
    "    def length(self):\r\n",
    "        # 链表长度\r\n",
    "        curs = self.head\r\n",
    "        coun = 0\r\n",
    "        while curs is not None:\r\n",
    "            coun += 1\r\n",
    "            curs = curs.next\r\n",
    "        \r\n",
    "        return coun\r\n",
    "    \r\n",
    "    def items(self):\r\n",
    "        # 遍历链表\r\n",
    "        curs = self.head\r\n",
    "        while curs is not None:\r\n",
    "            yield curs.item\r\n",
    "            curs = curs.next\r\n",
    "    \r\n",
    "    def add(self, item):\r\n",
    "        # 向链表头部添加元素\r\n",
    "        node = Node(item)\r\n",
    "        node.next = self.head\r\n",
    "        self.head = node\r\n",
    "\r\n",
    "    def append(self, item):\r\n",
    "        # 向尾部添加元素\r\n",
    "        node = Node(item)\r\n",
    "        if self.isEmpty():\r\n",
    "            self.head = node\r\n",
    "        else:\r\n",
    "            curs = self.head\r\n",
    "            while curs.next is not None:\r\n",
    "                curs = curs.next\r\n",
    "            curs.next = node\r\n",
    "\r\n",
    "    def insert(self, index, item):\r\n",
    "        # 指定位置插入元素\r\n",
    "        if index <= 0:\r\n",
    "            self.add(item)\r\n",
    "        elif index > (self.length()-1):\r\n",
    "            self.append(item)\r\n",
    "        else:\r\n",
    "            node = Node(item)\r\n",
    "            curs = self.head\r\n",
    "            for i in range(index-1):\r\n",
    "                curs = curs.next\r\n",
    "            node.next = curs.next\r\n",
    "            curs.next = node\r\n",
    "    \r\n",
    "    def remove(self, item):\r\n",
    "        # 删除结点\r\n",
    "        curs = self.head\r\n",
    "        pren = None\r\n",
    "        while curs is not None:\r\n",
    "            if curs.item == item:\r\n",
    "                if not pren:\r\n",
    "                    self.head = curs.next\r\n",
    "                else:\r\n",
    "                    pren.next = curs.next\r\n",
    "                \r\n",
    "                return True\r\n",
    "            else:\r\n",
    "                pren = curs\r\n",
    "                curs = curs.next\r\n",
    "\r\n",
    "    def find(self, item):\r\n",
    "        # 查找元素是否存在\r\n",
    "        return item in self.items()\r\n",
    "\r\n",
    "if __name__ == '__main__':\r\n",
    "    link = LinkedList()\r\n",
    "    n1, n2 = Node(1), Node(2)\r\n",
    "\r\n",
    "    link.head = n1\r\n",
    "    n1.next = n2\r\n",
    "\r\n",
    "    for i in [3, 4, 5]:\r\n",
    "        link.append(i)\r\n",
    "\r\n",
    "    for i in link.items():\r\n",
    "        print(i)\r\n",
    "\r\n",
    "    link.add(0)\r\n",
    "\r\n",
    "    for i in link.items():\r\n",
    "        print(i)\r\n",
    "\r\n",
    "    print(link.isEmpty())\r\n",
    "\r\n",
    "    print(link.length())\r\n",
    "\r\n",
    "    link.insert(1, 1)\r\n",
    "\r\n",
    "    for i in link.items():\r\n",
    "        print(i)\r\n",
    "\r\n",
    "    print(link.find(3))"
   ],
   "outputs": [],
   "metadata": {}
  },
  {
   "cell_type": "markdown",
   "source": [
    "# 4. 栈和队列\r\n",
    "\r\n",
    "## 栈 LIFO(Last in First out)\r\n",
    "+ 后进先出\r\n",
    "+ method\r\n",
    "    + push\r\n",
    "    + pop\r\n",
    "    + isEmpty\r\n",
    "    + top\r\n",
    "\r\n",
    "## 队列 FIFO(First in First out)\r\n",
    "+ 先进先出\r\n"
   ],
   "metadata": {}
  },
  {
   "cell_type": "code",
   "execution_count": null,
   "source": [
    "class Stack(object):\r\n",
    "    \r\n",
    "    def __init__(self):\r\n",
    "        self.stack = []\r\n",
    "    \r\n",
    "    def push(self, item):\r\n",
    "        self.stack.append(item)\r\n",
    "\r\n",
    "    def pop(self):\r\n",
    "        if self.stack:\r\n",
    "            self.stack.pop()\r\n",
    "        else:\r\n",
    "            raise Exception('stack is empty')\r\n",
    "    \r\n",
    "    def isEmpty(self):\r\n",
    "        return self.stack\r\n",
    "\r\n",
    "    def top(self):\r\n",
    "        return self.stack[-1]"
   ],
   "outputs": [],
   "metadata": {}
  },
  {
   "cell_type": "markdown",
   "source": [
    "# 5. 哈希表(利用哈希实现dict和set数据结构)\r\n",
    "+ 列表通过下标访问元素O(1),删除元素O(n).\r\n",
    "+ 哈希表通过一个哈希函数来计算一个元素放在数组中的位置,以快速定位和删除\r\n",
    "+ 哈希冲突\r\n",
    "    + 链接法解决冲突\r\n",
    "    + 开放寻址法解决\r\n",
    "        + 二次方探查法\r\n",
    "\r\n",
    " ## 部分概念\r\n",
    "+ 哈希函数\r\n",
    "+ 装载因子(已使用的槽数比哈希表大小)\r\n",
    "+ 重哈希(Rehashing)\r\n",
    "    + 装载因子大于0.8的时候,开辟新的空间\r\n",
    "+ HashTable ADT"
   ],
   "metadata": {}
  },
  {
   "cell_type": "markdown",
   "source": [
    "# 6. 递归\r\n",
    "+ 递归必须包含一个出口,否则就会无限递归,最终导致栈的溢出.比如阶乘就是n==1返回1\r\n",
    "+ 递归必须包含一个可以分解的问题(recursive case),fact(n) = n*fact(n-1)\r\n",
    "+ 递归必须要向着递归的出口靠近(toward the base case),比如每次递归都用n-1,向着递归出口n==1靠近\r\n",
    "\r\n",
    "计算机中使用调用栈来实现递归,每当进入递归函数,系统都会为当前函数开辟内存保存当前变量值等信息,每个调用栈之间数据互不影响,新调用的函数入栈就会放在栈顶\r\n",
    "\r\n",
    "递归会有递归深度过深导致爆栈问题"
   ],
   "metadata": {}
  },
  {
   "cell_type": "code",
   "execution_count": null,
   "source": [
    "def fact(n):\r\n",
    "    if n == 1:\r\n",
    "        return 1\r\n",
    "    else:\r\n",
    "        return n*fact(n-1)\r\n",
    "\r\n",
    "print(fact(10))"
   ],
   "outputs": [],
   "metadata": {}
  },
  {
   "cell_type": "code",
   "execution_count": null,
   "source": [
    "# 尾递归\r\n",
    "def printNumRecursive(n):\r\n",
    "    if n > 0:\r\n",
    "        print(n)\r\n",
    "        printNumRecursive(n-1)\r\n",
    "\r\n",
    "print(printNumRecursive(10))"
   ],
   "outputs": [],
   "metadata": {}
  },
  {
   "cell_type": "code",
   "execution_count": null,
   "source": [
    "def printNumRecursive(n):\r\n",
    "    if n > 0:\r\n",
    "        printNumRecursive(n-1)\r\n",
    "        print(n)\r\n",
    "\r\n",
    "printNumRecursive(10)"
   ],
   "outputs": [],
   "metadata": {}
  },
  {
   "cell_type": "markdown",
   "source": [
    "汉诺塔问题\r\n",
    "+ 有三根杆子A, B, C.A杆上有N个穿孔圆盘,盘的尺寸由下到上依次变小,要去按下列规则将所有圆盘移到C杆,但有两个条件\r\n",
    "    + 每次只能移动一个圆盘\r\n",
    "    + 大盘不能叠在小盘上面"
   ],
   "metadata": {}
  },
  {
   "cell_type": "code",
   "execution_count": null,
   "source": [
    "def hanoiMove(n, source, dest, intermediate):\r\n",
    "    # 递归出口只剩一个盘子\r\n",
    "    if n >= 1:\r\n",
    "        # 把n-1个盘子借助目标杆移到中介杆\r\n",
    "        hanoiMove(n-1, source, intermediate, dest)\r\n",
    "        # 把最大一个盘移到目标杆\r\n",
    "        print(f'move {source} -> {dest}')\r\n",
    "        # 把n-1个盘借助原始杆移到目标杆\r\n",
    "        hanoiMove(n-1, intermediate, dest, source)\r\n",
    "\r\n",
    "hanoiMove(3, 'A', 'C', 'B')"
   ],
   "outputs": [],
   "metadata": {}
  },
  {
   "cell_type": "markdown",
   "source": [
    "# 7. 线性查找和二分查找"
   ],
   "metadata": {}
  },
  {
   "cell_type": "code",
   "execution_count": null,
   "source": [
    "def stepSearch(nums, item):\r\n",
    "    for i, j in enumerate(nums):\r\n",
    "        if j == item:\r\n",
    "            return i\r\n",
    "    return  -1"
   ],
   "outputs": [],
   "metadata": {}
  },
  {
   "cell_type": "code",
   "execution_count": null,
   "source": [
    "def binarySearch(nums, item):\r\n",
    "    if not nums:\r\n",
    "        return -1\r\n",
    "\r\n",
    "    mininx, maxinx = 0, len(nums)-1\r\n",
    "    while mininx <= maxinx:\r\n",
    "        midinx = (mininx + maxinx)//2\r\n",
    "        if nums[midinx] > item:\r\n",
    "            maxinx = midinx - 1\r\n",
    "        elif nums[midinx] < item:\r\n",
    "            mininx = midinx + 1\r\n",
    "        else:\r\n",
    "            return midinx\r\n",
    "    \r\n",
    "    return -1\r\n",
    "\r\n",
    "print(binarySearch([1,3,5,7,9], 1))"
   ],
   "outputs": [],
   "metadata": {}
  },
  {
   "cell_type": "markdown",
   "source": [
    "# 8. 基本排序算法:冒泡、选择、插入"
   ],
   "metadata": {}
  },
  {
   "cell_type": "code",
   "execution_count": null,
   "source": [
    "def bubbleSort(nums):\r\n",
    "    n = len(nums)\r\n",
    "    for i in range(n-1):\r\n",
    "        flag = False\r\n",
    "        for j in range(n-1-i):\r\n",
    "            if nums[j] > nums[j+1]:\r\n",
    "                flag = True\r\n",
    "                nums[j], nums[j+1] = nums[j+1], nums[j]\r\n",
    "        if not flag:\r\n",
    "            break\r\n",
    "    \r\n",
    "    return nums\r\n",
    "\r\n",
    "print(bubbleSort([2,1,7,5,3,6,4]))"
   ],
   "outputs": [],
   "metadata": {}
  },
  {
   "cell_type": "code",
   "execution_count": null,
   "source": [
    "def selectSort(nums):\r\n",
    "    n = len(nums)\r\n",
    "    for i in range(n-1):\r\n",
    "        mininx = i\r\n",
    "        for j in range(i+1, n):\r\n",
    "            if nums[mininx] > nums[j]:\r\n",
    "                mininx = j\r\n",
    "        if mininx != i:\r\n",
    "            nums[mininx], nums[i] = nums[i], nums[mininx]\r\n",
    "    \r\n",
    "    return nums\r\n",
    "\r\n",
    "print(selectSort([2,1,7,5,3,6,4]))"
   ],
   "outputs": [],
   "metadata": {}
  },
  {
   "cell_type": "code",
   "execution_count": null,
   "source": [
    "def insertSort(nums):\r\n",
    "    for i in range(1, len(nums)):\r\n",
    "        while i > 0:\r\n",
    "            if nums[i] < nums[i-1]:\r\n",
    "                nums[i], nums[i-1] = nums[i-1], nums[i]\r\n",
    "                i -= 1\r\n",
    "            else:\r\n",
    "                break\r\n",
    "        \r\n",
    "    return nums\r\n",
    "\r\n",
    "print(insertSort([2,1,7,5,3,6,4]))"
   ],
   "outputs": [],
   "metadata": {}
  },
  {
   "cell_type": "markdown",
   "source": [
    "# 9. 高级排序算法\r\n",
    "+ 分支法与归并排序(Divide and Conquer)\r\n",
    "+ 快速排序"
   ],
   "metadata": {}
  },
  {
   "cell_type": "code",
   "execution_count": null,
   "source": [
    "def mergeSort(nums):\r\n",
    "    n = len(nums)\r\n",
    "    if n <= 1:\r\n",
    "        return nums\r\n",
    "    else:\r\n",
    "        mid = n//2\r\n",
    "        lef = mergeSort(nums[:mid])\r\n",
    "        rig = mergeSort(nums[mid:])\r\n",
    "\r\n",
    "        # 归并两个个有序数组\r\n",
    "        newNum = mergeSortList(lef, rig)\r\n",
    "        return newNum\r\n",
    "\r\n",
    "def mergeSortList(a, b):\r\n",
    "    m, n = len(a), len(b)\r\n",
    "    i, j = 0, 0\r\n",
    "    \r\n",
    "    nums = []\r\n",
    "    while i < m and j < n:\r\n",
    "        if a[i] < b[j]:\r\n",
    "            nums.append(a[i])\r\n",
    "            i += 1\r\n",
    "        else:\r\n",
    "            nums.append(b[j])\r\n",
    "            j += 1\r\n",
    "    \r\n",
    "    if i < m:\r\n",
    "        nums.extend(a[i:])\r\n",
    "    \r\n",
    "    if j < n:\r\n",
    "        nums.extend(b[j:])\r\n",
    "\r\n",
    "    return nums\r\n",
    "\r\n",
    "print(mergeSort([2,1,7,5,3,6,4]))"
   ],
   "outputs": [],
   "metadata": {}
  },
  {
   "cell_type": "markdown",
   "source": [
    "暴力快排\r\n",
    "+ 需要额外的存储空间,思考实现in-place原地排序\r\n",
    "+ partition操作每次需要遍历两次数组,可以改善"
   ],
   "metadata": {}
  },
  {
   "cell_type": "code",
   "execution_count": null,
   "source": [
    "def fastSort(nums):\r\n",
    "    if len(nums) <= 1:\r\n",
    "        return nums\r\n",
    "    base = nums[0]\r\n",
    "    left = [x for x in nums[1:] if x <= base]\r\n",
    "    righ = [x for x in nums[1:] if x > base]\r\n",
    "\r\n",
    "    return fastSort(left) + [base] + fastSort(righ)\r\n",
    "\r\n",
    "print(fastSort([2,1,7,5,3,6,4]))"
   ],
   "outputs": [],
   "metadata": {}
  },
  {
   "cell_type": "markdown",
   "source": [
    "优化快排"
   ],
   "metadata": {}
  },
  {
   "cell_type": "code",
   "execution_count": 38,
   "source": [
    "def fastSort(nums, l, r):\r\n",
    "    if l < r:\r\n",
    "        return\r\n",
    "\r\n",
    "    base = partition(nums, l, r)\r\n",
    "    fastSort(nums, l, base)\r\n",
    "    fastSort(nums, base+1, r)\r\n",
    "\r\n",
    "\r\n",
    "def partition(nums, l, r):\r\n",
    "    i, j = l, r\r\n",
    "    pivot = nums[l]\r\n",
    "    while i != j:\r\n",
    "        while i < j and nums[j] > pivot:\r\n",
    "            j -= 1\r\n",
    "        while i < j and nums[i] <= pivot:\r\n",
    "            i += 1\r\n",
    "        if i < j:\r\n",
    "            nums[i], nums[j] = nums[j], nums[i]\r\n",
    "    nums[l], nums[i] = nums[i], nums[l]\r\n",
    "\r\n",
    "    return i\r\n",
    "\r\n",
    "nums = [2,1,7,5,3,6,4]\r\n",
    "fastSort(nums, 0, 7)\r\n",
    "\r\n",
    "print(nums)"
   ],
   "outputs": [
    {
     "output_type": "stream",
     "name": "stdout",
     "text": [
      "[2, 1, 7, 5, 3, 6, 4]\n"
     ]
    }
   ],
   "metadata": {}
  },
  {
   "cell_type": "markdown",
   "source": [
    "# 10. 数和二叉树\r\n",
    "+ 根节点(root):树的最上层结点,任何非空的数都有一个结点"
   ],
   "metadata": {}
  },
  {
   "cell_type": "markdown",
   "source": [
    "# 11. 堆与堆排序"
   ],
   "metadata": {}
  },
  {
   "cell_type": "markdown",
   "source": [
    "# 12. 优先级队列"
   ],
   "metadata": {}
  },
  {
   "cell_type": "markdown",
   "source": [
    "# 13. 二分查找树"
   ],
   "metadata": {}
  },
  {
   "cell_type": "markdown",
   "source": [
    "# 14. 图与图的遍历"
   ],
   "metadata": {}
  },
  {
   "cell_type": "markdown",
   "source": [
    "# 15. Python常用内置算法和数据结构\r\n",
    "+ 常用内置数据类型:list、tuple、dict、set、frozenset\r\n",
    "+ collections\r\n",
    "+ heapq\r\n",
    "+ bisect"
   ],
   "metadata": {}
  }
 ],
 "metadata": {
  "orig_nbformat": 4,
  "language_info": {
   "name": "python",
   "version": "3.7.3",
   "mimetype": "text/x-python",
   "codemirror_mode": {
    "name": "ipython",
    "version": 3
   },
   "pygments_lexer": "ipython3",
   "nbconvert_exporter": "python",
   "file_extension": ".py"
  },
  "kernelspec": {
   "name": "python3",
   "display_name": "Python 3.7.3 64-bit"
  },
  "interpreter": {
   "hash": "4eaf1be304415beee96765ae99c3f893cc8312c7f1196698e6029668e9aeb3e5"
  }
 },
 "nbformat": 4,
 "nbformat_minor": 2
}