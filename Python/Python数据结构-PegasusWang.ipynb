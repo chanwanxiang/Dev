{
 "cells": [
  {
   "cell_type": "markdown",
   "source": [
    "抽象数据类型和面向对象编程\r\n",
    "\r\n",
    "程序 = 数据结构 + 算法\r\n",
    "\r\n",
    "实现Bag类"
   ],
   "metadata": {}
  },
  {
   "cell_type": "code",
   "execution_count": 13,
   "source": [
    "class Bag(object):\r\n",
    "\r\n",
    "    def __init__(self,maxsize = 10):\r\n",
    "        self.maxsize = maxsize\r\n",
    "        self.items = list()\r\n",
    "\r\n",
    "    def add(self, item):\r\n",
    "        if len(self) > self.maxsize:\r\n",
    "            raise Exception('Big is Full')\r\n",
    "        self.items.append(item)\r\n",
    "\r\n",
    "    def remove(self, item):\r\n",
    "        self.items.remove(item)\r\n",
    "\r\n",
    "    def __len__(self):\r\n",
    "        return len(self.items)\r\n",
    "\r\n",
    "    def __iter__(self):\r\n",
    "        for item in items:\r\n",
    "            yield item\r\n",
    "\r\n",
    "def testBag():\r\n",
    "    bag = Bag()\r\n",
    "\r\n",
    "    bag.add(1)\r\n",
    "    bag.add(2)\r\n",
    "    bag.add(3)\r\n",
    "    assert len(bag) == 3\r\n",
    "\r\n",
    "    bag.remove(3)\r\n",
    "    assert len(bag) == 2\r\n",
    "\r\n",
    "testBag()"
   ],
   "outputs": [],
   "metadata": {}
  }
 ],
 "metadata": {
  "orig_nbformat": 4,
  "language_info": {
   "name": "python",
   "version": "3.7.3",
   "mimetype": "text/x-python",
   "codemirror_mode": {
    "name": "ipython",
    "version": 3
   },
   "pygments_lexer": "ipython3",
   "nbconvert_exporter": "python",
   "file_extension": ".py"
  },
  "kernelspec": {
   "name": "python3",
   "display_name": "Python 3.7.3 64-bit"
  },
  "interpreter": {
   "hash": "4eaf1be304415beee96765ae99c3f893cc8312c7f1196698e6029668e9aeb3e5"
  }
 },
 "nbformat": 4,
 "nbformat_minor": 2
}