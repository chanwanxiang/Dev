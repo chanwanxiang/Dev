{
 "cells": [
  {
   "cell_type": "markdown",
   "metadata": {},
   "source": [
    "# 1. 抽象数据类型和面向对象编程\n",
    "\n",
    "程序 = 数据结构 + 算法\n",
    "\n",
    "实现Bag类(ADT:abstract Data Type)\n",
    "+ 选用datastructures\n",
    "+ 能否操作(增删)\n",
    "+ 效率\n",
    "\n",
    "数据结构是指相互之间存在着一种或者多种关系的数据元素的集合和该集合中数据元素之间的关系组成  \n",
    "\n",
    "数据结构按照其逻辑结构可分为线性结构、树结构、图结构\n",
    "+ 线性结构:数据结构中的元素一对一相互关系\n",
    "+ 树结构:数据结构中的元素一对多的相互关系\n",
    "+ 图结构:数据结构中的元素多对多的相互关系"
   ]
  },
  {
   "cell_type": "code",
   "execution_count": null,
   "metadata": {},
   "outputs": [],
   "source": [
    "class Bag(object):\n",
    "\n",
    "    def __init__(self,maxsize = 10):\n",
    "        self.maxsize = maxsize\n",
    "        self.items = list()\n",
    "\n",
    "    def add(self, item):\n",
    "        if len(self) > self.maxsize:\n",
    "            raise Exception('Big is Full')\n",
    "        self.items.append(item)\n",
    "\n",
    "    def remove(self, item):\n",
    "        self.items.remove(item)\n",
    "\n",
    "    def __len__(self):\n",
    "        return len(self.items)\n",
    "\n",
    "    def __iter__(self):\n",
    "        for item in self.items:\n",
    "            yield item\n",
    "\n",
    "def testBag():\n",
    "    bag = Bag()\n",
    "\n",
    "    bag.add(1)\n",
    "    bag.add(2)\n",
    "    bag.add(3)\n",
    "    print(len(bag) == 3)\n",
    "\n",
    "    bag.remove(3)\n",
    "    print(len(bag) == 2)\n",
    "\n",
    "testBag()"
   ]
  },
  {
   "cell_type": "markdown",
   "metadata": {},
   "source": [
    "# 2. 数组和列表\n",
    "\n",
    "线性结构\n",
    "+ 内存连续\n",
    "+ 下标访问\n",
    "\n",
    "数组与列表两点不同\n",
    "+ 同一类型\n",
    "+ 数组长度固定\n"
   ]
  },
  {
   "cell_type": "code",
   "execution_count": null,
   "metadata": {},
   "outputs": [],
   "source": [
    "class Array(object):\n",
    "\n",
    "    def __init__(self, size = 32):\n",
    "        self.size = size\n",
    "        self.items = [None] * size\n",
    "\n",
    "    def __getitem__(self, index):\n",
    "        return self.items[index]\n",
    "    \n",
    "    def __setitem__(self, index, value):\n",
    "        self.items[index] = value\n",
    "\n",
    "    def __len__(self):\n",
    "        return self.size\n",
    "\n",
    "    def __iter__(self):\n",
    "        for item in self.items:\n",
    "            yield item\n",
    "    \n",
    "    def clear(self, value = None):\n",
    "        for i in range(len(self.items)):\n",
    "            self.items[i] = value\n",
    "\n",
    "def testArray():\n",
    "    size = 10\n",
    "    a = Array(size)\n",
    "    a[0] = 1\n",
    "    print(a[0] == 1)\n",
    "    a.clear()\n",
    "    print(a[0] is None)\n",
    "\n",
    "testArray()"
   ]
  },
  {
   "cell_type": "markdown",
   "metadata": {},
   "source": [
    "# 3. 链表\n",
    "链式结构\n",
    "+ 内存不再连续\n",
    "+ 没有下标\n",
    "\n",
    "单链表的实现\n",
    "+ data\n",
    "    + head\n",
    "    + length\n",
    "+ method\n",
    "    + init\n",
    "    + isEmpty\n",
    "    + items\n",
    "    + add\n",
    "    + append\n",
    "    + insert\n",
    "    + remove\n",
    "    + find"
   ]
  },
  {
   "cell_type": "code",
   "execution_count": null,
   "metadata": {},
   "outputs": [],
   "source": [
    "class Node(object):\n",
    "\n",
    "    def __init__(self, item):\n",
    "        self.item = item\n",
    "        self.next = None\n",
    "\n",
    "class LinkedList(object):\n",
    "    \n",
    "    def __init__(self):\n",
    "        self.head = None\n",
    "\n",
    "    def isEmpty(self):\n",
    "        # 判断链表是否为空\n",
    "        return self.head is None\n",
    "\n",
    "    def length(self):\n",
    "        # 链表长度\n",
    "        curs = self.head\n",
    "        coun = 0\n",
    "        while curs is not None:\n",
    "            coun += 1\n",
    "            curs = curs.next\n",
    "        \n",
    "        return coun\n",
    "    \n",
    "    def items(self):\n",
    "        # 遍历链表\n",
    "        curs = self.head\n",
    "        while curs is not None:\n",
    "            yield curs.item\n",
    "            curs = curs.next\n",
    "    \n",
    "    def add(self, item):\n",
    "        # 向链表头部添加元素\n",
    "        node = Node(item)\n",
    "        node.next = self.head\n",
    "        self.head = node\n",
    "\n",
    "    def append(self, item):\n",
    "        # 向尾部添加元素\n",
    "        node = Node(item)\n",
    "        if self.isEmpty():\n",
    "            self.head = node\n",
    "        else:\n",
    "            curs = self.head\n",
    "            while curs.next is not None:\n",
    "                curs = curs.next\n",
    "            curs.next = node\n",
    "\n",
    "    def insert(self, index, item):\n",
    "        # 指定位置插入元素\n",
    "        if index <= 0:\n",
    "            self.add(item)\n",
    "        elif index > (self.length()-1):\n",
    "            self.append(item)\n",
    "        else:\n",
    "            node = Node(item)\n",
    "            curs = self.head\n",
    "            for i in range(index-1):\n",
    "                curs = curs.next\n",
    "            node.next = curs.next\n",
    "            curs.next = node\n",
    "    \n",
    "    def remove(self, item):\n",
    "        # 删除节点\n",
    "        curs = self.head\n",
    "        pren = None\n",
    "        while curs is not None:\n",
    "            if curs.item == item:\n",
    "                if not pren:\n",
    "                    self.head = curs.next\n",
    "                else:\n",
    "                    pren.next = curs.next\n",
    "                \n",
    "                return True\n",
    "            else:\n",
    "                pren = curs\n",
    "                curs = curs.next\n",
    "\n",
    "    def find(self, item):\n",
    "        # 查找元素是否存在\n",
    "        return item in self.items()\n",
    "\n",
    "if __name__ == '__main__':\n",
    "    link = LinkedList()\n",
    "    n1, n2 = Node(1), Node(2)\n",
    "\n",
    "    link.head = n1\n",
    "    n1.next = n2\n",
    "\n",
    "    for i in [3, 4, 5]:\n",
    "        link.append(i)\n",
    "\n",
    "    for i in link.items():\n",
    "        print(i)\n",
    "\n",
    "    link.add(0)\n",
    "\n",
    "    for i in link.items():\n",
    "        print(i)\n",
    "\n",
    "    print(link.isEmpty())\n",
    "\n",
    "    print(link.length())\n",
    "\n",
    "    link.insert(1, 1)\n",
    "\n",
    "    for i in link.items():\n",
    "        print(i)\n",
    "\n",
    "    print(link.find(3))"
   ]
  },
  {
   "cell_type": "markdown",
   "metadata": {},
   "source": [
    "# 4. 栈和队列\n",
    "\n",
    "## 栈 LIFO(Last in First out)\n",
    "+ 后进先出\n",
    "+ method\n",
    "    + push\n",
    "    + pop\n",
    "    + isEmpty\n",
    "    + gettop\n",
    "\n",
    "栈的应用:括号匹配问题\n",
    "\n",
    "## 队列 FIFO(First in First out)\n",
    "+ 队列(Queue)是一种数据集合,仅允许在列表的一端进行插入,另一端进行删除\n",
    "+ 进行插入的一端成为队尾(rear),插入动作称为进队或入队\n",
    "+ 进行删除的一端成为队头(front),删除动作称为出队\n",
    "\n",
    "环形队列的实现方式\n",
    "+ 队首指针front = maxsize - 1时,再前进一个位置就自动到0\n",
    "+ 队首指针前进1:front = (front+1)%maxsize\n",
    "+ 队尾指针前进1:rear = (rear+1)%maxsize\n",
    "+ 队空条件:rear = front\n",
    "+ 队满条件:(rear+1)%maxsize == front"
   ]
  },
  {
   "cell_type": "code",
   "execution_count": null,
   "metadata": {},
   "outputs": [],
   "source": [
    "class Stack(object):\n",
    "    \n",
    "    def __init__(self):\n",
    "        self.stack = []\n",
    "    \n",
    "    def push(self, item):\n",
    "        self.stack.append(item)\n",
    "\n",
    "    def pop(self):\n",
    "        if self.stack:\n",
    "            self.stack.pop()\n",
    "        else:\n",
    "            raise Exception('stack is empty')\n",
    "    \n",
    "    def isEmpty(self):\n",
    "        return self.stack\n",
    "\n",
    "    def gettop(self):\n",
    "        return self.stack[-1]"
   ]
  },
  {
   "cell_type": "code",
   "execution_count": null,
   "metadata": {},
   "outputs": [],
   "source": [
    "def matchBrace(s):\n",
    "    stack = []\n",
    "    match = {')':'(', ']':'[', '}':'{'}\n",
    "    for i in s:\n",
    "        if i in {'(', '[', '{'}:\n",
    "            stack.append(i)\n",
    "        else:\n",
    "            if not stack:\n",
    "                return False\n",
    "            elif stack[-1] == match[i]:\n",
    "                stack.pop()\n",
    "            else:\n",
    "                return False\n",
    "    if not stack:\n",
    "        return True\n",
    "    return False\n",
    "\n",
    "print(matchBrace('(())[[]]'))"
   ]
  },
  {
   "cell_type": "code",
   "execution_count": null,
   "metadata": {},
   "outputs": [],
   "source": []
  },
  {
   "cell_type": "markdown",
   "metadata": {},
   "source": [
    "# 5. 哈希表(利用哈希实现dict和set数据结构)\n",
    "+ 列表通过下标访问元素O(1),删除元素O(n).\n",
    "+ 哈希表通过一个哈希函数来计算一个元素放在数组中的位置,以快速定位和删除\n",
    "+ 哈希冲突\n",
    "    + 链接法解决冲突\n",
    "    + 开放寻址法解决\n",
    "        + 二次方探查法\n",
    "\n",
    " ## 部分概念\n",
    "+ 哈希函数\n",
    "+ 装载因子(已使用的槽数比哈希表大小)\n",
    "+ 重哈希(Rehashing)\n",
    "    + 装载因子大于0.8的时候,开辟新的空间\n",
    "+ HashTable ADT"
   ]
  },
  {
   "cell_type": "markdown",
   "metadata": {},
   "source": [
    "# 6. 递归\n",
    "+ 递归必须包含一个出口,否则就会无限递归,最终导致栈的溢出.比如阶乘就是n==1返回1\n",
    "+ 递归必须包含一个可以分解的问题(recursive case),fact(n) = n*fact(n-1)\n",
    "+ 递归必须要向着递归的出口靠近(toward the base case),比如每次递归都用n-1,向着递归出口n==1靠近\n",
    "\n",
    "计算机中使用调用栈来实现递归,每当进入递归函数,系统都会为当前函数开辟内存保存当前变量值等信息,每个调用栈之间数据互不影响,新调用的函数入栈就会放在栈顶\n",
    "\n",
    "递归会有递归深度过深导致爆栈问题"
   ]
  },
  {
   "cell_type": "code",
   "execution_count": null,
   "metadata": {},
   "outputs": [],
   "source": [
    "def fact(n):\n",
    "    if n == 1:\n",
    "        return 1\n",
    "    else:\n",
    "        return n*fact(n-1)\n",
    "\n",
    "print(fact(10))"
   ]
  },
  {
   "cell_type": "code",
   "execution_count": null,
   "metadata": {},
   "outputs": [],
   "source": [
    "# 尾递归\n",
    "def printNumRecursive(n):\n",
    "    if n > 0:\n",
    "        print(n)\n",
    "        printNumRecursive(n-1)\n",
    "\n",
    "print(printNumRecursive(10))"
   ]
  },
  {
   "cell_type": "code",
   "execution_count": null,
   "metadata": {},
   "outputs": [],
   "source": [
    "def printNumRecursive(n):\n",
    "    if n > 0:\n",
    "        printNumRecursive(n-1)\n",
    "        print(n)\n",
    "\n",
    "printNumRecursive(10)"
   ]
  },
  {
   "cell_type": "markdown",
   "metadata": {},
   "source": [
    "汉诺塔问题\n",
    "+ 有三根杆子A, B, C.A杆上有N个穿孔圆盘,盘的尺寸由下到上依次变小,要去按下列规则将所有圆盘移到C杆,但有两个条件\n",
    "    + 每次只能移动一个圆盘\n",
    "    + 大盘不能叠在小盘上面"
   ]
  },
  {
   "cell_type": "code",
   "execution_count": null,
   "metadata": {},
   "outputs": [],
   "source": [
    "def hanoiMove(n, source, dest, intermediate):\n",
    "    # 递归出口只剩一个盘子\n",
    "    if n >= 1:\n",
    "        # 把n-1个盘子借助目标杆移到中介杆\n",
    "        hanoiMove(n-1, source, intermediate, dest)\n",
    "        # 把最大一个盘移到目标杆\n",
    "        print(f'move {source} -> {dest}')\n",
    "        # 把n-1个盘借助原始杆移到目标杆\n",
    "        hanoiMove(n-1, intermediate, dest, source)\n",
    "\n",
    "hanoiMove(3, 'A', 'C', 'B')"
   ]
  },
  {
   "cell_type": "markdown",
   "metadata": {},
   "source": [
    "# 7. 线性查找和二分查找"
   ]
  },
  {
   "cell_type": "code",
   "execution_count": null,
   "metadata": {},
   "outputs": [],
   "source": [
    "def stepSearch(nums, item):\n",
    "    for i, j in enumerate(nums):\n",
    "        if j == item:\n",
    "            return i\n",
    "    return  -1"
   ]
  },
  {
   "cell_type": "code",
   "execution_count": null,
   "metadata": {},
   "outputs": [],
   "source": [
    "def binarySearch(nums, item):\n",
    "    if not nums:\n",
    "        return -1\n",
    "\n",
    "    mininx, maxinx = 0, len(nums)-1\n",
    "    while mininx <= maxinx:\n",
    "        midinx = (mininx + maxinx)//2\n",
    "        if nums[midinx] > item:\n",
    "            maxinx = midinx - 1\n",
    "        elif nums[midinx] < item:\n",
    "            mininx = midinx + 1\n",
    "        else:\n",
    "            return midinx\n",
    "    \n",
    "    return -1\n",
    "\n",
    "print(binarySearch([1,3,5,7,9], 1))"
   ]
  },
  {
   "cell_type": "markdown",
   "metadata": {},
   "source": [
    "# 8. 基本排序算法:冒泡、选择、插入"
   ]
  },
  {
   "cell_type": "markdown",
   "metadata": {},
   "source": [
    "列表每两个相邻的数，如果前面的比后面的大，则交换这两个数  \n",
    "一趟排序完成后，则无序区减少一个数，有序区增加一个数"
   ]
  },
  {
   "cell_type": "code",
   "execution_count": null,
   "metadata": {},
   "outputs": [],
   "source": [
    "def bubbleSort(nums):\n",
    "    n = len(nums)\n",
    "    for i in range(n-1):\n",
    "        flag = False\n",
    "        for j in range(n-1-i):\n",
    "            if nums[j] > nums[j+1]:\n",
    "                flag = True\n",
    "                nums[j], nums[j+1] = nums[j+1], nums[j]\n",
    "        if not flag:\n",
    "            break\n",
    "    \n",
    "    return nums\n",
    "\n",
    "print(bubbleSort([2,1,7,5,3,6,4]))"
   ]
  },
  {
   "cell_type": "code",
   "execution_count": null,
   "metadata": {},
   "outputs": [],
   "source": [
    "def selectSort(nums):\n",
    "    n = len(nums)\n",
    "    for i in range(n-1):\n",
    "        mininx = i\n",
    "        for j in range(i+1, n):\n",
    "            if nums[mininx] > nums[j]:\n",
    "                mininx = j\n",
    "        if mininx != i:\n",
    "            nums[mininx], nums[i] = nums[i], nums[mininx]\n",
    "    \n",
    "    return nums\n",
    "\n",
    "print(selectSort([2,1,7,5,3,6,4]))"
   ]
  },
  {
   "cell_type": "code",
   "execution_count": null,
   "metadata": {},
   "outputs": [],
   "source": [
    "def insertSort(nums):\n",
    "    for i in range(1, len(nums)):\n",
    "        while i > 0:\n",
    "            if nums[i] < nums[i-1]:\n",
    "                nums[i], nums[i-1] = nums[i-1], nums[i]\n",
    "                i -= 1\n",
    "            else:\n",
    "                break\n",
    "        \n",
    "    return nums\n",
    "\n",
    "print(insertSort([2,1,7,5,3,6,4]))"
   ]
  },
  {
   "cell_type": "markdown",
   "metadata": {},
   "source": [
    "# 9. 高级排序算法\n",
    "+ 分支法与归并排序(Divide and Conquer)\n",
    "    + 分解:将列表越分越小,直至分成一个元素\n",
    "    + 终止条件:一个元素是有序的\n",
    "    + 合并:将两个有序列表合并,列表越来越大\n",
    "+ 快速排序\n",
    "+ 堆排序\n",
    "\n",
    "三种排序算法的时间复杂度都是 O(logn)  \n",
    "一般情况运行时间:快速<归并<堆排序 \n",
    " \n",
    "三种算法的优缺点:\n",
    "+ 快速排序:极端情况下排序效率低\n",
    "+ 归并排序:需要额外的内存开销\n",
    "+ 堆排序:在快的排序算法中相对较慢"
   ]
  },
  {
   "cell_type": "code",
   "execution_count": null,
   "metadata": {},
   "outputs": [],
   "source": [
    "def mergeSort(nums):\n",
    "    n = len(nums)\n",
    "    if n <= 1:\n",
    "        return nums\n",
    "    else:\n",
    "        mid = n//2\n",
    "        lef = mergeSort(nums[:mid])\n",
    "        rig = mergeSort(nums[mid:])\n",
    "\n",
    "        # 归并两个个有序数组\n",
    "        newNum = mergeSortList(lef, rig)\n",
    "        return newNum\n",
    "\n",
    "def mergeSortList(a, b):\n",
    "    m, n = len(a), len(b)\n",
    "    i, j = 0, 0\n",
    "    \n",
    "    nums = []\n",
    "    while i < m and j < n:\n",
    "        if a[i] < b[j]:\n",
    "            nums.append(a[i])\n",
    "            i += 1\n",
    "        else:\n",
    "            nums.append(b[j])\n",
    "            j += 1\n",
    "    \n",
    "    if i < m:\n",
    "        nums.extend(a[i:])\n",
    "    \n",
    "    if j < n:\n",
    "        nums.extend(b[j:])\n",
    "\n",
    "    return nums\n",
    "\n",
    "print(mergeSort([2,1,7,5,3,6,4]))"
   ]
  },
  {
   "cell_type": "markdown",
   "metadata": {},
   "source": [
    "暴力快排\n",
    "+ 需要额外的存储空间,思考实现in-place原地排序\n",
    "+ partition操作每次需要遍历两次数组,可以改善"
   ]
  },
  {
   "cell_type": "code",
   "execution_count": null,
   "metadata": {},
   "outputs": [],
   "source": [
    "def fastSort(nums):\n",
    "    if len(nums) <= 1:\n",
    "        return nums\n",
    "    base = nums[0]\n",
    "    left = [x for x in nums[1:] if x <= base]\n",
    "    righ = [x for x in nums[1:] if x > base]\n",
    "\n",
    "    return fastSort(left) + [base] + fastSort(righ)\n",
    "\n",
    "print(fastSort([2,1,7,5,3,6,4]))"
   ]
  },
  {
   "cell_type": "markdown",
   "metadata": {},
   "source": [
    "优化快排"
   ]
  },
  {
   "cell_type": "code",
   "execution_count": 5,
   "metadata": {},
   "outputs": [
    {
     "name": "stdout",
     "output_type": "stream",
     "text": [
      "[1, 2, 3, 4, 5, 6, 7, 8, 9]\n"
     ]
    }
   ],
   "source": [
    "def fastSort(nums, l, r):\n",
    "    if l >= r: return\n",
    "\n",
    "    base = partition(nums, l, r)\n",
    "    fastSort(nums, l, base-1)\n",
    "    fastSort(nums, base+1, r)\n",
    "\n",
    "\n",
    "def partition(nums, l, r):\n",
    "    i, j = l, r\n",
    "    pivot = nums[l]\n",
    "    while i != j:\n",
    "        while i < j and nums[j] > pivot:\n",
    "            j -= 1\n",
    "        while i < j and nums[i] <= pivot:\n",
    "            i += 1\n",
    "        if i < j:\n",
    "            nums[i], nums[j] = nums[j], nums[i]\n",
    "    nums[l], nums[i] = nums[i], nums[l]\n",
    "\n",
    "    return i\n",
    "\n",
    "nums = [2,1,9,7,5,8,3,6,4]\n",
    "fastSort(nums, 0, len(nums)-1)\n",
    "\n",
    "print(nums)"
   ]
  },
  {
   "cell_type": "markdown",
   "metadata": {},
   "source": [
    "堆排序\n",
    "\n",
    "引入:给定一个数组每次弹出其最小值\n",
    "+ 每次获取数组当中最小值的索引,使用pop()函数弹出\n",
    "+ 通过排序,依次弹出元素"
   ]
  },
  {
   "cell_type": "code",
   "execution_count": null,
   "metadata": {},
   "outputs": [],
   "source": [
    "nums = [2,1,7,5,3,6,4]\n",
    "\n",
    "while len(nums):\n",
    "    print(nums.pop(nums.index(min(nums))))"
   ]
  },
  {
   "cell_type": "code",
   "execution_count": null,
   "metadata": {},
   "outputs": [],
   "source": [
    "nums = [2,1,7,5,3,6,4]\n",
    "\n",
    "nums.sort(reverse=True)\n",
    "\n",
    "for i in range(len(nums)):\n",
    "    print(nums.pop())"
   ]
  },
  {
   "cell_type": "code",
   "execution_count": null,
   "metadata": {},
   "outputs": [],
   "source": [
    "nums = [2,1,7,5,3,6,4]\n",
    "def HeapSort(nums):\n",
    "    for i in range(1, len(nums)):\n",
    "        father = (i-1)//2\n",
    "        while i != 0 and nums[i] < nums[father]:\n",
    "            nums[i], nums[father] = nums[father], nums[i]\n",
    "            i = father\n",
    "            father = (i-1)//2\n",
    "    \n",
    "    return nums[0]\n",
    "\n",
    "def pop(nums):\n",
    "    while nums:\n",
    "        mini = HeapSort(nums)\n",
    "        print(nums.pop(0))\n",
    "\n",
    "pop(nums)"
   ]
  },
  {
   "cell_type": "markdown",
   "metadata": {},
   "source": [
    "其他排序:希尔排序、计数排序、基数排序"
   ]
  },
  {
   "cell_type": "markdown",
   "metadata": {},
   "source": [
    "# 10. 树和二叉树\n",
    "+ 树是一种数据结构 比如:目录结构\n",
    "+ 树是一种可以递归定义的数据结构\n",
    "+ 树是由n个节点组成的集合\n",
    "    + 如果n=0,那么这是一棵空树\n",
    "    + 如果n>0,那存在1个节点作为树的根节点,其他节点可以分为m个集合,每个集合本身又是一棵树\n",
    "    \n",
    "基本概念\n",
    "+ 根节点(root):树的最上层节点,任何非空的数都有一个节点\n",
    "+ 叶子节点\n",
    "+ 树的深度\n",
    "+ 树的度\n",
    "+ 孩子节点/父节点\n",
    "+ 子树\n",
    "\n",
    "二叉树:度不超过2的树\n",
    "+ 每个节点最多有两个孩子节点\n",
    "+ 两个孩子节点被区分为左孩子节点和右孩子节点\n",
    "\n",
    "满二叉树:一个二叉树,如果每一个层的节点数都达到最大值,则这个二叉树就是满二叉树  \n",
    "完全二叉树:叶节点只能出现在最下层和次下层,并且最下面一层的节点都集中在该层最左边若干位置的二叉树\n",
    "\n",
    "二叉树的存储方式\n",
    "+ 链式存储方式\n",
    "+ 顺序存储方式\n",
    "    + 父节点和左子节点编号下标关系 i = 2i+1\n",
    "    + 父节点和右子节点编号下标关系 i = 2i+2"
   ]
  },
  {
   "cell_type": "markdown",
   "metadata": {},
   "source": [
    "# 11. 堆与堆排序\n",
    "\n",
    "堆:堆是一种完全的二叉树结构  \n",
    "大根堆:一棵完全二叉树,满足任一节点都比其子节点大  \n",
    "小根堆:一棵完全二叉树,满足任一节点都比其子节点小\n",
    "\n",
    "堆的向下调整:当节点的左右子树都是堆时,可以通过一次向下的调整来将其编程一个堆  \n",
    "\n",
    "堆排序过程\n",
    "1. 建立堆\n",
    "2. 得到堆顶元素,为最大元素\n",
    "3. 去掉堆顶元素,将堆最后一个元素放在堆顶,此时可通过一次调整重新使堆有序\n",
    "4. 堆顶元素为第二大元素\n",
    "5. 重复步骤3,直到堆变空"
   ]
  },
  {
   "cell_type": "code",
   "execution_count": 14,
   "metadata": {},
   "outputs": [
    {
     "name": "stdout",
     "output_type": "stream",
     "text": [
      "[1, 2, 3, 4, 5, 6, 7]\n"
     ]
    }
   ],
   "source": [
    "def sift(nums, l, r):\n",
    "    \"\"\"\n",
    "    l:堆的根节点位置\n",
    "    r:堆的最后一个节点位置\n",
    "    \"\"\"\n",
    "    i = l\n",
    "    j = 2*i + 1\n",
    "    base = nums[l]\n",
    "    while j <= r:\n",
    "        if j + 1 <= r and nums[j+1] > nums[j]:\n",
    "            j = j + 1\n",
    "        if nums[j] > base:\n",
    "            nums[i] = nums[j]\n",
    "            i = j\n",
    "            j = 2*i + 1\n",
    "        else:\n",
    "            nums[i] = base\n",
    "            break\n",
    "    else:\n",
    "        nums[i] = base\n",
    "\n",
    "def heapSort(nums):\n",
    "    n = len(nums)\n",
    "    for i in range((n-2)//2, -1, -1):\n",
    "        sift(nums, i, n-1)\n",
    "    for i in range(n-1, -1, -1):\n",
    "        nums[0], nums[i] = nums[i], nums[0]\n",
    "        sift(nums, 0, i-1)\n",
    "\n",
    "    return nums\n",
    "\n",
    "print(heapSort([2,1,7,5,4,3,6]))"
   ]
  },
  {
   "cell_type": "markdown",
   "metadata": {},
   "source": [
    "堆排序的内置模块\n",
    "+ heapq"
   ]
  },
  {
   "cell_type": "code",
   "execution_count": null,
   "metadata": {},
   "outputs": [],
   "source": [
    "import heapq\n",
    "\n",
    "nums = [2,1,7,4,5,3,6]\n",
    "\n",
    "heapq.heapify(nums)\n",
    "\n",
    "for i in range(len(nums)):\n",
    "    print(heapq.heappop(nums), end = ',')"
   ]
  },
  {
   "cell_type": "markdown",
   "metadata": {},
   "source": [
    "堆排序-topK问题  \n",
    "现在有n个数,设计算法得到前k大的数( k < n )\n",
    "+ 排序后切片 O(nlogn)\n",
    "+ 基础排序:冒泡、选择、排序 O(kn)\n",
    "+ 堆排序 O(nlogk)\n",
    "    + 取列表前k个元素建立一个小根堆,堆顶就是目前第k大的数\n",
    "    + 依次向后遍历原来的列表,对于列表中的元素,如果小于堆顶,则忽略该元素;如果大于堆顶,则将堆顶更换为该元素,并且对堆进行一次调整\n",
    "    + 遍历列表所有元素后,倒序弹出堆顶"
   ]
  },
  {
   "cell_type": "code",
   "execution_count": null,
   "metadata": {},
   "outputs": [],
   "source": [
    "def sift(nums, l, r):\n",
    "    \"\"\"\n",
    "    l:堆的根节点位置\n",
    "    r:堆的最后一个节点位置\n",
    "    \"\"\"\n",
    "    i = l\n",
    "    j = 2*i + 1\n",
    "    base = nums[l]\n",
    "    while j <= r:\n",
    "        if j + 1 <= r and nums[j+1] < nums[j]:\n",
    "            j = j + 1\n",
    "        if nums[j] < base:\n",
    "            nums[i] = nums[j]\n",
    "            i = j\n",
    "            j = 2*i + 1\n",
    "        else:\n",
    "            nums[i] = base\n",
    "            break\n",
    "    else:\n",
    "        nums[i] = base\n",
    "\n",
    "def topK(nums, k):\n",
    "    # 建堆\n",
    "    heap = nums[0:k]\n",
    "    for i in range((k-2)//2, -1, -1):\n",
    "        sift(heap, i, k-1)\n",
    "    # 遍历\n",
    "    for i in range(k, len(nums)):\n",
    "        if nums[i] > heap[0]:\n",
    "            heap[0] = nums[i]\n",
    "            sift(heap, 0, k-1)\n",
    "    # 反向输出\n",
    "    for i in range(k-1, -1, -1):\n",
    "        heap[0], heap[i] = heap[i], heap[0]\n",
    "        sift(heap, 0, i-1)\n",
    "    \n",
    "    return heap\n",
    "\n",
    "print(topK([2,1,7,5,4,3,6], 3))"
   ]
  },
  {
   "cell_type": "markdown",
   "metadata": {},
   "source": [
    "# 12. 优先级队列"
   ]
  },
  {
   "cell_type": "markdown",
   "metadata": {},
   "source": [
    "# 13. 二分查找树"
   ]
  },
  {
   "cell_type": "markdown",
   "metadata": {},
   "source": [
    "# 14. 图与图的遍历"
   ]
  },
  {
   "cell_type": "markdown",
   "metadata": {},
   "source": [
    "# 15. Python常用内置算法和数据结构\n",
    "+ 常用内置数据类型:list、tuple、dict、set、frozenset\n",
    "+ collections\n",
    "+ heapq\n",
    "+ bisect"
   ]
  },
  {
   "cell_type": "markdown",
   "metadata": {},
   "source": [
    "+ 背包问题\n",
    "+ 有一个容量为capacity的背包，和一些物品items，这些物品有两个属性，质量和价值，每种物品只有一个，要求用这个背包装下价值尽可能多的物品，求该最大价值，背包可以不被装满。"
   ]
  },
  {
   "cell_type": "code",
   "execution_count": null,
   "metadata": {},
   "outputs": [],
   "source": [
    "item, capacity = [[1,2], [4,3], [5,6], [6,7]], 10\n"
   ]
  }
 ],
 "metadata": {
  "interpreter": {
   "hash": "4eaf1be304415beee96765ae99c3f893cc8312c7f1196698e6029668e9aeb3e5"
  },
  "kernelspec": {
   "display_name": "Python 3.7.3 64-bit",
   "name": "python3"
  },
  "language_info": {
   "codemirror_mode": {
    "name": "ipython",
    "version": 3
   },
   "file_extension": ".py",
   "mimetype": "text/x-python",
   "name": "python",
   "nbconvert_exporter": "python",
   "pygments_lexer": "ipython3",
   "version": "3.7.3"
  },
  "orig_nbformat": 4
 },
 "nbformat": 4,
 "nbformat_minor": 2
}
