{
 "cells": [
  {
   "cell_type": "markdown",
   "source": [
    "# 1. 抽象数据类型和面向对象编程\r\n",
    "\r\n",
    "程序 = 数据结构 + 算法\r\n",
    "\r\n",
    "实现Bag类(ADT:abstract Data Type)\r\n",
    "+ 选用datastructures\r\n",
    "+ 能否操作(增删)\r\n",
    "+ 效率\r\n",
    "\r\n",
    "数据结构是指相互之间存在着一种或者多种关系的数据元素的集合和该集合中数据元素之间的关系组成  \r\n",
    "\r\n",
    "数据结构按照其逻辑结构可分为线性结构、树结构、图结构\r\n",
    "+ 线性结构:数据结构中的元素一对一相互关系\r\n",
    "+ 树结构:数据结构中的元素一对多的相互关系\r\n",
    "+ 图结构:数据结构中的元素多对多的相互关系"
   ],
   "metadata": {}
  },
  {
   "cell_type": "code",
   "execution_count": null,
   "source": [
    "class Bag(object):\r\n",
    "\r\n",
    "    def __init__(self,maxsize = 10):\r\n",
    "        self.maxsize = maxsize\r\n",
    "        self.items = list()\r\n",
    "\r\n",
    "    def add(self, item):\r\n",
    "        if len(self) > self.maxsize:\r\n",
    "            raise Exception('Big is Full')\r\n",
    "        self.items.append(item)\r\n",
    "\r\n",
    "    def remove(self, item):\r\n",
    "        self.items.remove(item)\r\n",
    "\r\n",
    "    def __len__(self):\r\n",
    "        return len(self.items)\r\n",
    "\r\n",
    "    def __iter__(self):\r\n",
    "        for item in self.items:\r\n",
    "            yield item\r\n",
    "\r\n",
    "def testBag():\r\n",
    "    bag = Bag()\r\n",
    "\r\n",
    "    bag.add(1)\r\n",
    "    bag.add(2)\r\n",
    "    bag.add(3)\r\n",
    "    print(len(bag) == 3)\r\n",
    "\r\n",
    "    bag.remove(3)\r\n",
    "    print(len(bag) == 2)\r\n",
    "\r\n",
    "testBag()"
   ],
   "outputs": [],
   "metadata": {}
  },
  {
   "cell_type": "markdown",
   "source": [
    "# 2. 数组和列表\r\n",
    "\r\n",
    "线性结构\r\n",
    "+ 内存连续\r\n",
    "+ 下标访问\r\n",
    "\r\n",
    "数组与列表两点不同\r\n",
    "+ 同一类型\r\n",
    "+ 数组长度固定\r\n"
   ],
   "metadata": {}
  },
  {
   "cell_type": "code",
   "execution_count": null,
   "source": [
    "class Array(object):\r\n",
    "\r\n",
    "    def __init__(self, size = 32):\r\n",
    "        self.size = size\r\n",
    "        self.items = [None] * size\r\n",
    "\r\n",
    "    def __getitem__(self, index):\r\n",
    "        return self.items[index]\r\n",
    "    \r\n",
    "    def __setitem__(self, index, value):\r\n",
    "        self.items[index] = value\r\n",
    "\r\n",
    "    def __len__(self):\r\n",
    "        return self.size\r\n",
    "\r\n",
    "    def __iter__(self):\r\n",
    "        for item in self.items:\r\n",
    "            yield item\r\n",
    "    \r\n",
    "    def clear(self, value = None):\r\n",
    "        for i in range(len(self.items)):\r\n",
    "            self.items[i] = value\r\n",
    "\r\n",
    "def testArray():\r\n",
    "    size = 10\r\n",
    "    a = Array(size)\r\n",
    "    a[0] = 1\r\n",
    "    print(a[0] == 1)\r\n",
    "    a.clear()\r\n",
    "    print(a[0] is None)\r\n",
    "\r\n",
    "testArray()"
   ],
   "outputs": [],
   "metadata": {}
  },
  {
   "cell_type": "markdown",
   "source": [
    "# 3. 链表\r\n",
    "链式结构\r\n",
    "+ 内存不再连续\r\n",
    "+ 没有下标\r\n",
    "\r\n",
    "单链表的实现\r\n",
    "+ data\r\n",
    "    + head\r\n",
    "    + length\r\n",
    "+ method\r\n",
    "    + init\r\n",
    "    + isEmpty\r\n",
    "    + items\r\n",
    "    + add\r\n",
    "    + append\r\n",
    "    + insert\r\n",
    "    + remove\r\n",
    "    + find"
   ],
   "metadata": {}
  },
  {
   "cell_type": "code",
   "execution_count": null,
   "source": [
    "class Node(object):\r\n",
    "\r\n",
    "    def __init__(self, item):\r\n",
    "        self.item = item\r\n",
    "        self.next = None\r\n",
    "\r\n",
    "class LinkedList(object):\r\n",
    "    \r\n",
    "    def __init__(self):\r\n",
    "        self.head = None\r\n",
    "\r\n",
    "    def isEmpty(self):\r\n",
    "        # 判断链表是否为空\r\n",
    "        return self.head is None\r\n",
    "\r\n",
    "    def length(self):\r\n",
    "        # 链表长度\r\n",
    "        curs = self.head\r\n",
    "        coun = 0\r\n",
    "        while curs is not None:\r\n",
    "            coun += 1\r\n",
    "            curs = curs.next\r\n",
    "        \r\n",
    "        return coun\r\n",
    "    \r\n",
    "    def items(self):\r\n",
    "        # 遍历链表\r\n",
    "        curs = self.head\r\n",
    "        while curs is not None:\r\n",
    "            yield curs.item\r\n",
    "            curs = curs.next\r\n",
    "    \r\n",
    "    def add(self, item):\r\n",
    "        # 向链表头部添加元素\r\n",
    "        node = Node(item)\r\n",
    "        node.next = self.head\r\n",
    "        self.head = node\r\n",
    "\r\n",
    "    def append(self, item):\r\n",
    "        # 向尾部添加元素\r\n",
    "        node = Node(item)\r\n",
    "        if self.isEmpty():\r\n",
    "            self.head = node\r\n",
    "        else:\r\n",
    "            curs = self.head\r\n",
    "            while curs.next is not None:\r\n",
    "                curs = curs.next\r\n",
    "            curs.next = node\r\n",
    "\r\n",
    "    def insert(self, index, item):\r\n",
    "        # 指定位置插入元素\r\n",
    "        if index <= 0:\r\n",
    "            self.add(item)\r\n",
    "        elif index > (self.length()-1):\r\n",
    "            self.append(item)\r\n",
    "        else:\r\n",
    "            node = Node(item)\r\n",
    "            curs = self.head\r\n",
    "            for i in range(index-1):\r\n",
    "                curs = curs.next\r\n",
    "            node.next = curs.next\r\n",
    "            curs.next = node\r\n",
    "    \r\n",
    "    def remove(self, item):\r\n",
    "        # 删除节点\r\n",
    "        curs = self.head\r\n",
    "        pren = None\r\n",
    "        while curs is not None:\r\n",
    "            if curs.item == item:\r\n",
    "                if not pren:\r\n",
    "                    self.head = curs.next\r\n",
    "                else:\r\n",
    "                    pren.next = curs.next\r\n",
    "                \r\n",
    "                return True\r\n",
    "            else:\r\n",
    "                pren = curs\r\n",
    "                curs = curs.next\r\n",
    "\r\n",
    "    def find(self, item):\r\n",
    "        # 查找元素是否存在\r\n",
    "        return item in self.items()\r\n",
    "\r\n",
    "if __name__ == '__main__':\r\n",
    "    link = LinkedList()\r\n",
    "    n1, n2 = Node(1), Node(2)\r\n",
    "\r\n",
    "    link.head = n1\r\n",
    "    n1.next = n2\r\n",
    "\r\n",
    "    for i in [3, 4, 5]:\r\n",
    "        link.append(i)\r\n",
    "\r\n",
    "    for i in link.items():\r\n",
    "        print(i)\r\n",
    "\r\n",
    "    link.add(0)\r\n",
    "\r\n",
    "    for i in link.items():\r\n",
    "        print(i)\r\n",
    "\r\n",
    "    print(link.isEmpty())\r\n",
    "\r\n",
    "    print(link.length())\r\n",
    "\r\n",
    "    link.insert(1, 1)\r\n",
    "\r\n",
    "    for i in link.items():\r\n",
    "        print(i)\r\n",
    "\r\n",
    "    print(link.find(3))"
   ],
   "outputs": [],
   "metadata": {}
  },
  {
   "cell_type": "markdown",
   "source": [
    "# 4. 栈和队列\r\n",
    "\r\n",
    "## 栈 LIFO(Last in First out)\r\n",
    "+ 后进先出\r\n",
    "+ method\r\n",
    "    + push\r\n",
    "    + pop\r\n",
    "    + isEmpty\r\n",
    "    + gettop\r\n",
    "\r\n",
    "栈的应用:括号匹配问题\r\n",
    "\r\n",
    "## 队列 FIFO(First in First out)\r\n",
    "+ 队列(Queue)是一种数据集合,仅允许在列表的一端进行插入,另一端进行删除\r\n",
    "+ 进行插入的一端成为队尾(rear),插入动作称为进队或入队\r\n",
    "+ 进行删除的一端成为队头(front),删除动作称为出队\r\n",
    "\r\n",
    "环形队列的实现方式\r\n",
    "+ 队首指针front = maxsize - 1时,再前进一个位置就自动到0\r\n",
    "+ 队首指针前进1:front = (front+1)%maxsize\r\n",
    "+ 队尾指针前进1:rear = (rear+1)%maxsize\r\n",
    "+ 队空条件:rear = front\r\n",
    "+ 队满条件:(rear+1)%maxsize == front"
   ],
   "metadata": {}
  },
  {
   "cell_type": "code",
   "execution_count": null,
   "source": [
    "class Stack(object):\r\n",
    "    \r\n",
    "    def __init__(self):\r\n",
    "        self.stack = []\r\n",
    "    \r\n",
    "    def push(self, item):\r\n",
    "        self.stack.append(item)\r\n",
    "\r\n",
    "    def pop(self):\r\n",
    "        if self.stack:\r\n",
    "            self.stack.pop()\r\n",
    "        else:\r\n",
    "            raise Exception('stack is empty')\r\n",
    "    \r\n",
    "    def isEmpty(self):\r\n",
    "        return self.stack\r\n",
    "\r\n",
    "    def gettop(self):\r\n",
    "        return self.stack[-1]"
   ],
   "outputs": [],
   "metadata": {}
  },
  {
   "cell_type": "code",
   "execution_count": null,
   "source": [
    "def matchBrace(s):\r\n",
    "    stack = []\r\n",
    "    match = {')':'(', ']':'[', '}':'{'}\r\n",
    "    for i in s:\r\n",
    "        if i in {'(', '[', '{'}:\r\n",
    "            stack.append(i)\r\n",
    "        else:\r\n",
    "            if not stack:\r\n",
    "                return False\r\n",
    "            elif stack[-1] == match[i]:\r\n",
    "                stack.pop()\r\n",
    "            else:\r\n",
    "                return False\r\n",
    "    if not stack:\r\n",
    "        return True\r\n",
    "    return False\r\n",
    "\r\n",
    "print(matchBrace('(())[[]]'))"
   ],
   "outputs": [],
   "metadata": {}
  },
  {
   "cell_type": "code",
   "execution_count": null,
   "source": [],
   "outputs": [],
   "metadata": {}
  },
  {
   "cell_type": "markdown",
   "source": [
    "# 5. 哈希表(利用哈希实现dict和set数据结构)\r\n",
    "+ 列表通过下标访问元素O(1),删除元素O(n).\r\n",
    "+ 哈希表通过一个哈希函数来计算一个元素放在数组中的位置,以快速定位和删除\r\n",
    "+ 哈希冲突\r\n",
    "    + 链接法解决冲突\r\n",
    "    + 开放寻址法解决\r\n",
    "        + 二次方探查法\r\n",
    "\r\n",
    " ## 部分概念\r\n",
    "+ 哈希函数\r\n",
    "+ 装载因子(已使用的槽数比哈希表大小)\r\n",
    "+ 重哈希(Rehashing)\r\n",
    "    + 装载因子大于0.8的时候,开辟新的空间\r\n",
    "+ HashTable ADT"
   ],
   "metadata": {}
  },
  {
   "cell_type": "markdown",
   "source": [
    "# 6. 递归\r\n",
    "+ 递归必须包含一个出口,否则就会无限递归,最终导致栈的溢出.比如阶乘就是n==1返回1\r\n",
    "+ 递归必须包含一个可以分解的问题(recursive case),fact(n) = n*fact(n-1)\r\n",
    "+ 递归必须要向着递归的出口靠近(toward the base case),比如每次递归都用n-1,向着递归出口n==1靠近\r\n",
    "\r\n",
    "计算机中使用调用栈来实现递归,每当进入递归函数,系统都会为当前函数开辟内存保存当前变量值等信息,每个调用栈之间数据互不影响,新调用的函数入栈就会放在栈顶\r\n",
    "\r\n",
    "递归会有递归深度过深导致爆栈问题"
   ],
   "metadata": {}
  },
  {
   "cell_type": "code",
   "execution_count": null,
   "source": [
    "def fact(n):\r\n",
    "    if n == 1:\r\n",
    "        return 1\r\n",
    "    else:\r\n",
    "        return n*fact(n-1)\r\n",
    "\r\n",
    "print(fact(10))"
   ],
   "outputs": [],
   "metadata": {}
  },
  {
   "cell_type": "code",
   "execution_count": null,
   "source": [
    "# 尾递归\r\n",
    "def printNumRecursive(n):\r\n",
    "    if n > 0:\r\n",
    "        print(n)\r\n",
    "        printNumRecursive(n-1)\r\n",
    "\r\n",
    "print(printNumRecursive(10))"
   ],
   "outputs": [],
   "metadata": {}
  },
  {
   "cell_type": "code",
   "execution_count": null,
   "source": [
    "def printNumRecursive(n):\r\n",
    "    if n > 0:\r\n",
    "        printNumRecursive(n-1)\r\n",
    "        print(n)\r\n",
    "\r\n",
    "printNumRecursive(10)"
   ],
   "outputs": [],
   "metadata": {}
  },
  {
   "cell_type": "markdown",
   "source": [
    "汉诺塔问题\r\n",
    "+ 有三根杆子A, B, C.A杆上有N个穿孔圆盘,盘的尺寸由下到上依次变小,要去按下列规则将所有圆盘移到C杆,但有两个条件\r\n",
    "    + 每次只能移动一个圆盘\r\n",
    "    + 大盘不能叠在小盘上面"
   ],
   "metadata": {}
  },
  {
   "cell_type": "code",
   "execution_count": null,
   "source": [
    "def hanoiMove(n, source, dest, intermediate):\r\n",
    "    # 递归出口只剩一个盘子\r\n",
    "    if n >= 1:\r\n",
    "        # 把n-1个盘子借助目标杆移到中介杆\r\n",
    "        hanoiMove(n-1, source, intermediate, dest)\r\n",
    "        # 把最大一个盘移到目标杆\r\n",
    "        print(f'move {source} -> {dest}')\r\n",
    "        # 把n-1个盘借助原始杆移到目标杆\r\n",
    "        hanoiMove(n-1, intermediate, dest, source)\r\n",
    "\r\n",
    "hanoiMove(3, 'A', 'C', 'B')"
   ],
   "outputs": [],
   "metadata": {}
  },
  {
   "cell_type": "markdown",
   "source": [
    "# 7. 线性查找和二分查找"
   ],
   "metadata": {}
  },
  {
   "cell_type": "code",
   "execution_count": null,
   "source": [
    "def stepSearch(nums, item):\r\n",
    "    for i, j in enumerate(nums):\r\n",
    "        if j == item:\r\n",
    "            return i\r\n",
    "    return  -1"
   ],
   "outputs": [],
   "metadata": {}
  },
  {
   "cell_type": "code",
   "execution_count": null,
   "source": [
    "def binarySearch(nums, item):\r\n",
    "    if not nums:\r\n",
    "        return -1\r\n",
    "\r\n",
    "    mininx, maxinx = 0, len(nums)-1\r\n",
    "    while mininx <= maxinx:\r\n",
    "        midinx = (mininx + maxinx)//2\r\n",
    "        if nums[midinx] > item:\r\n",
    "            maxinx = midinx - 1\r\n",
    "        elif nums[midinx] < item:\r\n",
    "            mininx = midinx + 1\r\n",
    "        else:\r\n",
    "            return midinx\r\n",
    "    \r\n",
    "    return -1\r\n",
    "\r\n",
    "print(binarySearch([1,3,5,7,9], 1))"
   ],
   "outputs": [],
   "metadata": {}
  },
  {
   "cell_type": "markdown",
   "source": [
    "# 8. 基本排序算法:冒泡、选择、插入"
   ],
   "metadata": {}
  },
  {
   "cell_type": "markdown",
   "source": [
    "列表每两个相邻的数，如果前面的比后面的大，则交换这两个数  \r\n",
    "一趟排序完成后，则无序区减少一个数，有序区增加一个数"
   ],
   "metadata": {}
  },
  {
   "cell_type": "code",
   "execution_count": null,
   "source": [
    "def bubbleSort(nums):\r\n",
    "    n = len(nums)\r\n",
    "    for i in range(n-1):\r\n",
    "        flag = False\r\n",
    "        for j in range(n-1-i):\r\n",
    "            if nums[j] > nums[j+1]:\r\n",
    "                flag = True\r\n",
    "                nums[j], nums[j+1] = nums[j+1], nums[j]\r\n",
    "        if not flag:\r\n",
    "            break\r\n",
    "    \r\n",
    "    return nums\r\n",
    "\r\n",
    "print(bubbleSort([2,1,7,5,3,6,4]))"
   ],
   "outputs": [],
   "metadata": {}
  },
  {
   "cell_type": "code",
   "execution_count": null,
   "source": [
    "def selectSort(nums):\r\n",
    "    n = len(nums)\r\n",
    "    for i in range(n-1):\r\n",
    "        mininx = i\r\n",
    "        for j in range(i+1, n):\r\n",
    "            if nums[mininx] > nums[j]:\r\n",
    "                mininx = j\r\n",
    "        if mininx != i:\r\n",
    "            nums[mininx], nums[i] = nums[i], nums[mininx]\r\n",
    "    \r\n",
    "    return nums\r\n",
    "\r\n",
    "print(selectSort([2,1,7,5,3,6,4]))"
   ],
   "outputs": [],
   "metadata": {}
  },
  {
   "cell_type": "code",
   "execution_count": null,
   "source": [
    "def insertSort(nums):\r\n",
    "    for i in range(1, len(nums)):\r\n",
    "        while i > 0:\r\n",
    "            if nums[i] < nums[i-1]:\r\n",
    "                nums[i], nums[i-1] = nums[i-1], nums[i]\r\n",
    "                i -= 1\r\n",
    "            else:\r\n",
    "                break\r\n",
    "        \r\n",
    "    return nums\r\n",
    "\r\n",
    "print(insertSort([2,1,7,5,3,6,4]))"
   ],
   "outputs": [],
   "metadata": {}
  },
  {
   "cell_type": "markdown",
   "source": [
    "# 9. 高级排序算法\r\n",
    "+ 分支法与归并排序(Divide and Conquer)\r\n",
    "    + 分解:将列表越分越小,直至分成一个元素\r\n",
    "    + 终止条件:一个元素是有序的\r\n",
    "    + 合并:将两个有序列表合并,列表越来越大\r\n",
    "+ 快速排序\r\n",
    "+ 堆排序\r\n",
    "\r\n",
    "三种排序算法的时间复杂度都是 O(logn)  \r\n",
    "一般情况运行时间:快速<归并<堆排序 \r\n",
    " \r\n",
    "三种算法的优缺点:\r\n",
    "+ 快速排序:极端情况下排序效率低\r\n",
    "+ 归并排序:需要额外的内存开销\r\n",
    "+ 堆排序:在快的排序算法中相对较慢"
   ],
   "metadata": {}
  },
  {
   "cell_type": "code",
   "execution_count": null,
   "source": [
    "def mergeSort(nums):\r\n",
    "    n = len(nums)\r\n",
    "    if n <= 1:\r\n",
    "        return nums\r\n",
    "    else:\r\n",
    "        mid = n//2\r\n",
    "        lef = mergeSort(nums[:mid])\r\n",
    "        rig = mergeSort(nums[mid:])\r\n",
    "\r\n",
    "        # 归并两个个有序数组\r\n",
    "        newNum = mergeSortList(lef, rig)\r\n",
    "        return newNum\r\n",
    "\r\n",
    "def mergeSortList(a, b):\r\n",
    "    m, n = len(a), len(b)\r\n",
    "    i, j = 0, 0\r\n",
    "    \r\n",
    "    nums = []\r\n",
    "    while i < m and j < n:\r\n",
    "        if a[i] < b[j]:\r\n",
    "            nums.append(a[i])\r\n",
    "            i += 1\r\n",
    "        else:\r\n",
    "            nums.append(b[j])\r\n",
    "            j += 1\r\n",
    "    \r\n",
    "    if i < m:\r\n",
    "        nums.extend(a[i:])\r\n",
    "    \r\n",
    "    if j < n:\r\n",
    "        nums.extend(b[j:])\r\n",
    "\r\n",
    "    return nums\r\n",
    "\r\n",
    "print(mergeSort([2,1,7,5,3,6,4]))"
   ],
   "outputs": [],
   "metadata": {}
  },
  {
   "cell_type": "markdown",
   "source": [
    "暴力快排\r\n",
    "+ 需要额外的存储空间,思考实现in-place原地排序\r\n",
    "+ partition操作每次需要遍历两次数组,可以改善"
   ],
   "metadata": {}
  },
  {
   "cell_type": "code",
   "execution_count": null,
   "source": [
    "def fastSort(nums):\r\n",
    "    if len(nums) <= 1:\r\n",
    "        return nums\r\n",
    "    base = nums[0]\r\n",
    "    left = [x for x in nums[1:] if x <= base]\r\n",
    "    righ = [x for x in nums[1:] if x > base]\r\n",
    "\r\n",
    "    return fastSort(left) + [base] + fastSort(righ)\r\n",
    "\r\n",
    "print(fastSort([2,1,7,5,3,6,4]))"
   ],
   "outputs": [],
   "metadata": {}
  },
  {
   "cell_type": "markdown",
   "source": [
    "优化快排"
   ],
   "metadata": {}
  },
  {
   "cell_type": "code",
   "execution_count": 5,
   "source": [
    "def fastSort(nums, l, r):\r\n",
    "    if l >= r: return\r\n",
    "\r\n",
    "    base = partition(nums, l, r)\r\n",
    "    fastSort(nums, l, base-1)\r\n",
    "    fastSort(nums, base+1, r)\r\n",
    "\r\n",
    "\r\n",
    "def partition(nums, l, r):\r\n",
    "    i, j = l, r\r\n",
    "    pivot = nums[l]\r\n",
    "    while i != j:\r\n",
    "        while i < j and nums[j] > pivot:\r\n",
    "            j -= 1\r\n",
    "        while i < j and nums[i] <= pivot:\r\n",
    "            i += 1\r\n",
    "        if i < j:\r\n",
    "            nums[i], nums[j] = nums[j], nums[i]\r\n",
    "    nums[l], nums[i] = nums[i], nums[l]\r\n",
    "\r\n",
    "    return i\r\n",
    "\r\n",
    "nums = [2,1,9,7,5,8,3,6,4]\r\n",
    "fastSort(nums, 0, len(nums)-1)\r\n",
    "\r\n",
    "print(nums)"
   ],
   "outputs": [
    {
     "output_type": "stream",
     "name": "stdout",
     "text": [
      "[1, 2, 3, 4, 5, 6, 7, 8, 9]\n"
     ]
    }
   ],
   "metadata": {}
  },
  {
   "cell_type": "markdown",
   "source": [
    "堆排序\r\n",
    "\r\n",
    "引入:给定一个数组每次弹出其最小值\r\n",
    "+ 每次获取数组当中最小值的索引,使用pop()函数弹出\r\n",
    "+ 通过排序,依次弹出元素"
   ],
   "metadata": {}
  },
  {
   "cell_type": "code",
   "execution_count": null,
   "source": [
    "nums = [2,1,7,5,3,6,4]\r\n",
    "\r\n",
    "while len(nums):\r\n",
    "    print(nums.pop(nums.index(min(nums))))"
   ],
   "outputs": [],
   "metadata": {}
  },
  {
   "cell_type": "code",
   "execution_count": null,
   "source": [
    "nums = [2,1,7,5,3,6,4]\r\n",
    "\r\n",
    "nums.sort(reverse=True)\r\n",
    "\r\n",
    "for i in range(len(nums)):\r\n",
    "    print(nums.pop())"
   ],
   "outputs": [],
   "metadata": {}
  },
  {
   "cell_type": "code",
   "execution_count": null,
   "source": [
    "nums = [2,1,7,5,3,6,4]\r\n",
    "def HeapSort(nums):\r\n",
    "    for i in range(1, len(nums)):\r\n",
    "        father = (i-1)//2\r\n",
    "        while i != 0 and nums[i] < nums[father]:\r\n",
    "            nums[i], nums[father] = nums[father], nums[i]\r\n",
    "            i = father\r\n",
    "            father = (i-1)//2\r\n",
    "    \r\n",
    "    return nums[0]\r\n",
    "\r\n",
    "def pop(nums):\r\n",
    "    while nums:\r\n",
    "        mini = HeapSort(nums)\r\n",
    "        print(nums.pop(0))\r\n",
    "\r\n",
    "pop(nums)"
   ],
   "outputs": [],
   "metadata": {}
  },
  {
   "cell_type": "markdown",
   "source": [
    "其他排序:希尔排序、计数排序、基数排序"
   ],
   "metadata": {}
  },
  {
   "cell_type": "markdown",
   "source": [
    "# 10. 树和二叉树\r\n",
    "+ 树是一种数据结构 比如:目录结构\r\n",
    "+ 树是一种可以递归定义的数据结构\r\n",
    "+ 树是由n个节点组成的集合\r\n",
    "    + 如果n=0,那么这是一棵空树\r\n",
    "    + 如果n>0,那存在1个节点作为树的根节点,其他节点可以分为m个集合,每个集合本身又是一棵树\r\n",
    "    \r\n",
    "基本概念\r\n",
    "+ 根节点(root):树的最上层节点,任何非空的数都有一个节点\r\n",
    "+ 叶子节点\r\n",
    "+ 树的深度\r\n",
    "+ 树的度\r\n",
    "+ 孩子节点/父节点\r\n",
    "+ 子树\r\n",
    "\r\n",
    "二叉树:度不超过2的树\r\n",
    "+ 每个节点最多有两个孩子节点\r\n",
    "+ 两个孩子节点被区分为左孩子节点和右孩子节点\r\n",
    "\r\n",
    "满二叉树:一个二叉树,如果每一个层的节点数都达到最大值,则这个二叉树就是满二叉树  \r\n",
    "完全二叉树:叶节点只能出现在最下层和次下层,并且最下面一层的节点都集中在该层最左边若干位置的二叉树\r\n",
    "\r\n",
    "二叉树的存储方式\r\n",
    "+ 链式存储方式\r\n",
    "+ 顺序存储方式\r\n",
    "    + 父节点和左子节点编号下标关系 i = 2i+1\r\n",
    "    + 父节点和右子节点编号下标关系 i = 2i+2"
   ],
   "metadata": {}
  },
  {
   "cell_type": "markdown",
   "source": [
    "# 11. 堆与堆排序\r\n",
    "\r\n",
    "堆:堆是一种完全的二叉树结构  \r\n",
    "大根堆:一棵完全二叉树,满足任一节点都比其子节点大  \r\n",
    "小根堆:一棵完全二叉树,满足任一节点都比其子节点小\r\n",
    "\r\n",
    "堆的向下调整:当节点的左右子树都是堆时,可以通过一次向下的调整来将其编程一个堆  \r\n",
    "\r\n",
    "堆排序过程\r\n",
    "1. 建立堆\r\n",
    "2. 得到堆顶元素,为最大元素\r\n",
    "3. 去掉堆顶元素,将堆最后一个元素放在堆顶,此时可通过一次调整重新使堆有序\r\n",
    "4. 堆顶元素为第二大元素\r\n",
    "5. 重复步骤3,直到堆变空"
   ],
   "metadata": {}
  },
  {
   "cell_type": "code",
   "execution_count": 14,
   "source": [
    "def sift(nums, l, r):\r\n",
    "    \"\"\"\r\n",
    "    l:堆的根节点位置\r\n",
    "    r:堆的最后一个节点位置\r\n",
    "    \"\"\"\r\n",
    "    i = l\r\n",
    "    j = 2*i + 1\r\n",
    "    base = nums[l]\r\n",
    "    while j <= r:\r\n",
    "        if j + 1 <= r and nums[j+1] > nums[j]:\r\n",
    "            j = j + 1\r\n",
    "        if nums[j] > base:\r\n",
    "            nums[i] = nums[j]\r\n",
    "            i = j\r\n",
    "            j = 2*i + 1\r\n",
    "        else:\r\n",
    "            nums[i] = base\r\n",
    "            break\r\n",
    "    else:\r\n",
    "        nums[i] = base\r\n",
    "\r\n",
    "def heapSort(nums):\r\n",
    "    n = len(nums)\r\n",
    "    for i in range((n-2)//2, -1, -1):\r\n",
    "        sift(nums, i, n-1)\r\n",
    "    for i in range(n-1, -1, -1):\r\n",
    "        nums[0], nums[i] = nums[i], nums[0]\r\n",
    "        sift(nums, 0, i-1)\r\n",
    "\r\n",
    "    return nums\r\n",
    "\r\n",
    "print(heapSort([2,1,7,5,4,3,6]))"
   ],
   "outputs": [
    {
     "output_type": "stream",
     "name": "stdout",
     "text": [
      "[1, 2, 3, 4, 5, 6, 7]\n"
     ]
    }
   ],
   "metadata": {}
  },
  {
   "cell_type": "markdown",
   "source": [
    "堆排序的内置模块\r\n",
    "+ heapq"
   ],
   "metadata": {}
  },
  {
   "cell_type": "code",
   "execution_count": null,
   "source": [
    "import heapq\r\n",
    "\r\n",
    "nums = [2,1,7,4,5,3,6]\r\n",
    "\r\n",
    "heapq.heapify(nums)\r\n",
    "\r\n",
    "for i in range(len(nums)):\r\n",
    "    print(heapq.heappop(nums), end = ',')"
   ],
   "outputs": [],
   "metadata": {}
  },
  {
   "cell_type": "markdown",
   "source": [
    "堆排序-topK问题  \r\n",
    "现在有n个数,设计算法得到前k大的数( k < n )\r\n",
    "+ 排序后切片 O(nlogn)\r\n",
    "+ 基础排序:冒泡、选择、排序 O(kn)\r\n",
    "+ 堆排序 O(nlogk)\r\n",
    "    + 取列表前k个元素建立一个小根堆,堆顶就是目前第k大的数\r\n",
    "    + 依次向后遍历原来的列表,对于列表中的元素,如果小于堆顶,则忽略该元素;如果大于堆顶,则将堆顶更换为该元素,并且对堆进行一次调整\r\n",
    "    + 遍历列表所有元素后,倒序弹出堆顶"
   ],
   "metadata": {}
  },
  {
   "cell_type": "code",
   "execution_count": null,
   "source": [
    "def sift(nums, l, r):\r\n",
    "    \"\"\"\r\n",
    "    l:堆的根节点位置\r\n",
    "    r:堆的最后一个节点位置\r\n",
    "    \"\"\"\r\n",
    "    i = l\r\n",
    "    j = 2*i + 1\r\n",
    "    base = nums[l]\r\n",
    "    while j <= r:\r\n",
    "        if j + 1 <= r and nums[j+1] < nums[j]:\r\n",
    "            j = j + 1\r\n",
    "        if nums[j] < base:\r\n",
    "            nums[i] = nums[j]\r\n",
    "            i = j\r\n",
    "            j = 2*i + 1\r\n",
    "        else:\r\n",
    "            nums[i] = base\r\n",
    "            break\r\n",
    "    else:\r\n",
    "        nums[i] = base\r\n",
    "\r\n",
    "def topK(nums, k):\r\n",
    "    # 建堆\r\n",
    "    heap = nums[0:k]\r\n",
    "    for i in range((k-2)//2, -1, -1):\r\n",
    "        sift(heap, i, k-1)\r\n",
    "    # 遍历\r\n",
    "    for i in range(k, len(nums)):\r\n",
    "        if nums[i] > heap[0]:\r\n",
    "            heap[0] = nums[i]\r\n",
    "            sift(heap, 0, k-1)\r\n",
    "    # 反向输出\r\n",
    "    for i in range(k-1, -1, -1):\r\n",
    "        heap[0], heap[i] = heap[i], heap[0]\r\n",
    "        sift(heap, 0, i-1)\r\n",
    "    \r\n",
    "    return heap\r\n",
    "\r\n",
    "print(topK([2,1,7,5,4,3,6], 3))"
   ],
   "outputs": [],
   "metadata": {}
  },
  {
   "cell_type": "markdown",
   "source": [
    "# 12. 优先级队列"
   ],
   "metadata": {}
  },
  {
   "cell_type": "markdown",
   "source": [
    "# 13. 二分查找树"
   ],
   "metadata": {}
  },
  {
   "cell_type": "markdown",
   "source": [
    "# 14. 图与图的遍历"
   ],
   "metadata": {}
  },
  {
   "cell_type": "markdown",
   "source": [
    "# 15. Python常用内置算法和数据结构\r\n",
    "+ 常用内置数据类型:list、tuple、dict、set、frozenset\r\n",
    "+ collections\r\n",
    "+ heapq\r\n",
    "+ bisect"
   ],
   "metadata": {}
  },
  {
   "cell_type": "code",
   "execution_count": 3,
   "source": [
    "import json\r\n",
    "\r\n",
    "js = json.loads(\"{\r\n",
    "    \"machineNum\": \"2161AF600051\",\r\n",
    "    \"bizContent\": {\r\n",
    "        \"corpId\": \"2000000801\",\r\n",
    "        \"memCardNo\": \"0007470000000018\",\r\n",
    "        \"ordersrc\": \"3\",\r\n",
    "        \"manufacturerId\": \"Yuwei00001\",\r\n",
    "        \"clientTransNo\": \"2021092915351559144\",\r\n",
    "        \"trademode\": \"1\",\r\n",
    "        \"userId\": \"nuNjjHY1k6I+Cax4oBEHuOZTt5t/lrs84VXJAw7rqzW0eWFFMBvrRvFziKJ+248xdpdFRPEyaWFh+TQdP23inrb4kse0iYjbpPQ6wJhVkrY=\",\r\n",
    "        \"timeStamp\": \"2021-09-29 15:35:20\",\r\n",
    "        \"identityNo\": \"00000007\",\r\n",
    "        \"clientType\": \"3\",\r\n",
    "        \"payType\": \"2\",\r\n",
    "        \"totalAmt\": \"0.05\",\r\n",
    "        \"merNo\": \"20000008010000000001\",\r\n",
    "        \"imeiNo\": \"2161AF600051\"\r\n",
    "    }\r\n",
    "}\")\r\n",
    "\r\n",
    "if \"clientTransNo\" in js:\r\n",
    "    print(True)"
   ],
   "outputs": [
    {
     "output_type": "error",
     "ename": "SyntaxError",
     "evalue": "EOL while scanning string literal (Temp/ipykernel_62780/503220052.py, line 3)",
     "traceback": [
      "\u001b[1;36m  File \u001b[1;32m\"C:\\Users\\Admin\\AppData\\Local\\Temp/ipykernel_62780/503220052.py\"\u001b[1;36m, line \u001b[1;32m3\u001b[0m\n\u001b[1;33m    js = json.loads(\"{\u001b[0m\n\u001b[1;37m                      ^\u001b[0m\n\u001b[1;31mSyntaxError\u001b[0m\u001b[1;31m:\u001b[0m EOL while scanning string literal\n"
     ]
    }
   ],
   "metadata": {}
  }
 ],
 "metadata": {
  "orig_nbformat": 4,
  "language_info": {
   "name": "python",
   "version": "3.7.3",
   "mimetype": "text/x-python",
   "codemirror_mode": {
    "name": "ipython",
    "version": 3
   },
   "pygments_lexer": "ipython3",
   "nbconvert_exporter": "python",
   "file_extension": ".py"
  },
  "kernelspec": {
   "name": "python3",
   "display_name": "Python 3.7.3 64-bit"
  },
  "interpreter": {
   "hash": "4eaf1be304415beee96765ae99c3f893cc8312c7f1196698e6029668e9aeb3e5"
  }
 },
 "nbformat": 4,
 "nbformat_minor": 2
}